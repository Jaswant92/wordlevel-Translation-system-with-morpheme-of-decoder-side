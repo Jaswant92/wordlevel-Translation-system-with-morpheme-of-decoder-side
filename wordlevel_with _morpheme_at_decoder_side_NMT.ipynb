{
 "cells": [
  {
   "cell_type": "code",
   "execution_count": 1,
   "metadata": {
    "colab": {
     "base_uri": "https://localhost:8080/",
     "height": 35
    },
    "colab_type": "code",
    "executionInfo": {
     "elapsed": 3119,
     "status": "ok",
     "timestamp": 1562322655519,
     "user": {
      "displayName": "Jaswant Kumar",
      "photoUrl": "https://lh6.googleusercontent.com/-q9pbC5zjOIY/AAAAAAAAAAI/AAAAAAAAAAo/1OYGdg39U84/s64/photo.jpg",
      "userId": "17132398173832355271"
     },
     "user_tz": -330
    },
    "id": "dWOsvE0r65LC",
    "outputId": "697b0665-c143-4c15-fa9c-3d2ce289d2c7",
    "scrolled": true
   },
   "outputs": [
    {
     "name": "stderr",
     "output_type": "stream",
     "text": [
      "Using TensorFlow backend.\n"
     ]
    }
   ],
   "source": [
    "import pandas as pd\n",
    "import numpy as np\n",
    "import string\n",
    "from string import digits\n",
    "import matplotlib.pyplot as plt\n",
    "%matplotlib inline\n",
    "import re\n",
    "from sklearn.utils import shuffle\n",
    "from sklearn.model_selection import train_test_split\n",
    "from keras.layers import Input, LSTM, Embedding, Dense\n",
    "from keras.models import Model\n",
    "import os\n",
    "os.environ['KERAS_BACKEND'] = 'theano'\n",
    "import keras as ks"
   ]
  },
  {
   "cell_type": "code",
   "execution_count": 0,
   "metadata": {
    "colab": {},
    "colab_type": "code",
    "id": "Is2SGw7v7ITC"
   },
   "outputs": [],
   "source": [
    "import pickle"
   ]
  },
  {
   "cell_type": "code",
   "execution_count": 0,
   "metadata": {
    "colab": {},
    "colab_type": "code",
    "id": "NKmuiQqe_iOQ"
   },
   "outputs": [],
   "source": [
    "target1_token_index=pickle.load(open(\"dictionary.pkl\",\"rb\"))"
   ]
  },
  {
   "cell_type": "code",
   "execution_count": 0,
   "metadata": {
    "colab": {},
    "colab_type": "code",
    "id": "10d8uPaL5XZ-"
   },
   "outputs": [],
   "source": [
    "target1_token_index"
   ]
  },
  {
   "cell_type": "code",
   "execution_count": 0,
   "metadata": {
    "colab": {},
    "colab_type": "code",
    "id": "AMQO5nlVPbDD"
   },
   "outputs": [],
   "source": [
    "morpheme_list=pickle.load(open(\"morpheme_new_list.pkl\",\"rb\"))"
   ]
  },
  {
   "cell_type": "code",
   "execution_count": 11,
   "metadata": {
    "colab": {
     "base_uri": "https://localhost:8080/",
     "height": 53
    },
    "colab_type": "code",
    "executionInfo": {
     "elapsed": 1317,
     "status": "ok",
     "timestamp": 1562322903489,
     "user": {
      "displayName": "Jaswant Kumar",
      "photoUrl": "https://lh6.googleusercontent.com/-q9pbC5zjOIY/AAAAAAAAAAI/AAAAAAAAAAo/1OYGdg39U84/s64/photo.jpg",
      "userId": "17132398173832355271"
     },
     "user_tz": -330
    },
    "id": "4zr9FoPL65Lr",
    "outputId": "9ecd4bc8-e062-4727-ea6c-c73c7481538d"
   },
   "outputs": [
    {
     "name": "stderr",
     "output_type": "stream",
     "text": [
      "/usr/local/lib/python3.6/dist-packages/ipykernel_launcher.py:1: FutureWarning: read_table is deprecated, use read_csv instead, passing sep='\\t'.\n",
      "  \"\"\"Entry point for launching an IPython kernel.\n"
     ]
    }
   ],
   "source": [
    "lines= pd.read_table('mar1.txt', names=['eng', 'fre'])"
   ]
  },
  {
   "cell_type": "code",
   "execution_count": 0,
   "metadata": {
    "colab": {
     "base_uri": "https://localhost:8080/",
     "height": 35
    },
    "colab_type": "code",
    "executionInfo": {
     "elapsed": 1396,
     "status": "ok",
     "timestamp": 1562131767012,
     "user": {
      "displayName": "Jaswant Kumar",
      "photoUrl": "https://lh6.googleusercontent.com/-q9pbC5zjOIY/AAAAAAAAAAI/AAAAAAAAAAo/1OYGdg39U84/s64/photo.jpg",
      "userId": "17132398173832355271"
     },
     "user_tz": -330
    },
    "id": "2E8f2-1265L5",
    "outputId": "35b2afaa-26e8-462b-d96f-ec0334e25cd0"
   },
   "outputs": [
    {
     "data": {
      "text/plain": [
       "2000"
      ]
     },
     "execution_count": 5,
     "metadata": {
      "tags": []
     },
     "output_type": "execute_result"
    }
   ],
   "source": [
    "len(lines)"
   ]
  },
  {
   "cell_type": "code",
   "execution_count": 0,
   "metadata": {
    "colab": {},
    "colab_type": "code",
    "id": "W8hKlBs465MK"
   },
   "outputs": [],
   "source": [
    "#lines=lines[0:11725]"
   ]
  },
  {
   "cell_type": "code",
   "execution_count": 0,
   "metadata": {
    "colab": {},
    "colab_type": "code",
    "id": "oFUFU-mF65MV"
   },
   "outputs": [],
   "source": [
    "lines.mar"
   ]
  },
  {
   "cell_type": "code",
   "execution_count": 0,
   "metadata": {
    "colab": {
     "base_uri": "https://localhost:8080/",
     "height": 34
    },
    "colab_type": "code",
    "executionInfo": {
     "elapsed": 1526,
     "status": "ok",
     "timestamp": 1561874049863,
     "user": {
      "displayName": "Jaswant Kumar",
      "photoUrl": "https://lh6.googleusercontent.com/-q9pbC5zjOIY/AAAAAAAAAAI/AAAAAAAAAAo/1OYGdg39U84/s64/photo.jpg",
      "userId": "17132398173832355271"
     },
     "user_tz": -330
    },
    "id": "J7r6vqZS65Mg",
    "outputId": "2886638e-f7cb-4c35-a8d0-219db2cf815c"
   },
   "outputs": [
    {
     "data": {
      "text/plain": [
       "(2000, 2)"
      ]
     },
     "execution_count": 18,
     "metadata": {
      "tags": []
     },
     "output_type": "execute_result"
    }
   ],
   "source": [
    "lines.shape"
   ]
  },
  {
   "cell_type": "code",
   "execution_count": 0,
   "metadata": {
    "colab": {},
    "colab_type": "code",
    "id": "T7tmrmtp65Mt"
   },
   "outputs": [],
   "source": [
    "# Lowercase all characters\n",
    "lines.eng=lines.eng.apply(lambda x: x.lower())\n",
    "lines.fre=lines.fre.apply(lambda x: x.lower())"
   ]
  },
  {
   "cell_type": "code",
   "execution_count": 0,
   "metadata": {
    "colab": {},
    "colab_type": "code",
    "id": "wmaXfCKg65M2"
   },
   "outputs": [],
   "source": [
    "# Remove quotes\n",
    "lines.eng=lines.eng.apply(lambda x: re.sub(\"'\", '', x))\n",
    "lines.fre=lines.fre.apply(lambda x: re.sub(\"'\", '', x))"
   ]
  },
  {
   "cell_type": "code",
   "execution_count": 0,
   "metadata": {
    "colab": {},
    "colab_type": "code",
    "id": "80OJmuU965M9"
   },
   "outputs": [],
   "source": [
    "exclude = set(string.punctuation) # Set of all special characters\n",
    "# Remove all the special characters\n",
    "lines.eng=lines.eng.apply(lambda x: ''.join(ch for ch in x if ch not in exclude))\n",
    "lines.fre=lines.fre.apply(lambda x: ''.join(ch for ch in x if ch not in exclude))"
   ]
  },
  {
   "cell_type": "code",
   "execution_count": 0,
   "metadata": {
    "colab": {},
    "colab_type": "code",
    "id": "kP4QiwNM65NG"
   },
   "outputs": [],
   "source": [
    "# Remove all numbers from text\n",
    "remove_digits = str.maketrans('', '', digits)\n",
    "lines.eng=lines.eng.apply(lambda x: x.translate(remove_digits))\n",
    "lines.fre = lines.fre.apply(lambda x: re.sub(\"[1230456789]\", \"\", x))"
   ]
  },
  {
   "cell_type": "code",
   "execution_count": 0,
   "metadata": {
    "colab": {},
    "colab_type": "code",
    "id": "-PogGMWs65NM"
   },
   "outputs": [],
   "source": [
    "# Remove extra spaces\n",
    "lines.eng=lines.eng.apply(lambda x: x.strip())\n",
    "lines.fre=lines.fre.apply(lambda x: x.strip())\n",
    "lines.eng=lines.eng.apply(lambda x: re.sub(\" +\", \" \", x))\n",
    "lines.fre=lines.fre.apply(lambda x: re.sub(\" +\", \" \", x))"
   ]
  },
  {
   "cell_type": "code",
   "execution_count": 0,
   "metadata": {
    "colab": {},
    "colab_type": "code",
    "id": "OTr7y8r-65NS"
   },
   "outputs": [],
   "source": [
    "# Add start and end tokens to target sequences\n",
    "lines.fre = lines.fre.apply(lambda x : 'START_ '+ x + ' _END')"
   ]
  },
  {
   "cell_type": "code",
   "execution_count": 0,
   "metadata": {
    "colab": {},
    "colab_type": "code",
    "id": "omEgkhBG65Ng"
   },
   "outputs": [],
   "source": [
    "# Vocabulary of English\n",
    "all_eng_words=set()\n",
    "for eng in lines.eng:\n",
    "    for word in eng.split():\n",
    "        if word not in all_eng_words:\n",
    "            all_eng_words.add(word)\n",
    "\n",
    "# Vocabulary of French \n",
    "all_french_words=set()\n",
    "for mar in lines.fre:\n",
    "    for word in mar.split():\n",
    "        print(word)\n",
    "        if word not in all_french_words:\n",
    "            all_french_words.add(word)"
   ]
  },
  {
   "cell_type": "code",
   "execution_count": 20,
   "metadata": {
    "colab": {
     "base_uri": "https://localhost:8080/",
     "height": 35
    },
    "colab_type": "code",
    "executionInfo": {
     "elapsed": 1252,
     "status": "ok",
     "timestamp": 1562323056850,
     "user": {
      "displayName": "Jaswant Kumar",
      "photoUrl": "https://lh6.googleusercontent.com/-q9pbC5zjOIY/AAAAAAAAAAI/AAAAAAAAAAo/1OYGdg39U84/s64/photo.jpg",
      "userId": "17132398173832355271"
     },
     "user_tz": -330
    },
    "id": "l0qFDPj-65Np",
    "outputId": "fc487037-c3ab-40e5-8133-8b88d07c67c3"
   },
   "outputs": [
    {
     "data": {
      "text/plain": [
       "4"
      ]
     },
     "execution_count": 20,
     "metadata": {
      "tags": []
     },
     "output_type": "execute_result"
    }
   ],
   "source": [
    "# Max Length of source sequence\n",
    "lenght_list=[]\n",
    "for l in lines.eng:\n",
    "    lenght_list.append(len(l.split(' ')))\n",
    "max_length_src = np.max(lenght_list)\n",
    "max_length_src"
   ]
  },
  {
   "cell_type": "code",
   "execution_count": 0,
   "metadata": {
    "colab": {},
    "colab_type": "code",
    "id": "EsXFHgS08gt7"
   },
   "outputs": [],
   "source": [
    "max_length_src=10\n"
   ]
  },
  {
   "cell_type": "code",
   "execution_count": 0,
   "metadata": {
    "colab": {},
    "colab_type": "code",
    "id": "1BBQBWf98xOr"
   },
   "outputs": [],
   "source": [
    "new_word_morpheme_list=pickle.load(open(\"morpheme_new_list.pkl\",\"rb\"))"
   ]
  },
  {
   "cell_type": "code",
   "execution_count": 22,
   "metadata": {
    "colab": {
     "base_uri": "https://localhost:8080/",
     "height": 35
    },
    "colab_type": "code",
    "executionInfo": {
     "elapsed": 1267,
     "status": "ok",
     "timestamp": 1562323074315,
     "user": {
      "displayName": "Jaswant Kumar",
      "photoUrl": "https://lh6.googleusercontent.com/-q9pbC5zjOIY/AAAAAAAAAAI/AAAAAAAAAAo/1OYGdg39U84/s64/photo.jpg",
      "userId": "17132398173832355271"
     },
     "user_tz": -330
    },
    "id": "FPFBupuKAoPP",
    "outputId": "fd9da741-4cd9-4b89-9135-7e7682c050e7"
   },
   "outputs": [
    {
     "data": {
      "text/plain": [
       "5458"
      ]
     },
     "execution_count": 22,
     "metadata": {
      "tags": []
     },
     "output_type": "execute_result"
    }
   ],
   "source": [
    "len(new_word_morpheme_list)"
   ]
  },
  {
   "cell_type": "code",
   "execution_count": 23,
   "metadata": {
    "colab": {
     "base_uri": "https://localhost:8080/",
     "height": 35
    },
    "colab_type": "code",
    "executionInfo": {
     "elapsed": 1524,
     "status": "ok",
     "timestamp": 1562323085175,
     "user": {
      "displayName": "Jaswant Kumar",
      "photoUrl": "https://lh6.googleusercontent.com/-q9pbC5zjOIY/AAAAAAAAAAI/AAAAAAAAAAo/1OYGdg39U84/s64/photo.jpg",
      "userId": "17132398173832355271"
     },
     "user_tz": -330
    },
    "id": "stm-PC-a65Nw",
    "outputId": "ea6733c6-279a-4f03-e0bc-6421a9de6d97"
   },
   "outputs": [
    {
     "data": {
      "text/plain": [
       "10"
      ]
     },
     "execution_count": 23,
     "metadata": {
      "tags": []
     },
     "output_type": "execute_result"
    }
   ],
   "source": [
    "# Max Length of target sequence\n",
    "lenght_list=[]\n",
    "for l in lines.fre:\n",
    "    lenght_list.append(len(l.split(' ')))\n",
    "max_length_tar = np.max(lenght_list)\n",
    "max_length_tar"
   ]
  },
  {
   "cell_type": "code",
   "execution_count": 0,
   "metadata": {
    "colab": {},
    "colab_type": "code",
    "id": "5n5Udvdy-bDs"
   },
   "outputs": [],
   "source": [
    "all_marathi_words"
   ]
  },
  {
   "cell_type": "code",
   "execution_count": 24,
   "metadata": {
    "colab": {
     "base_uri": "https://localhost:8080/",
     "height": 35
    },
    "colab_type": "code",
    "executionInfo": {
     "elapsed": 1318,
     "status": "ok",
     "timestamp": 1562323098037,
     "user": {
      "displayName": "Jaswant Kumar",
      "photoUrl": "https://lh6.googleusercontent.com/-q9pbC5zjOIY/AAAAAAAAAAI/AAAAAAAAAAo/1OYGdg39U84/s64/photo.jpg",
      "userId": "17132398173832355271"
     },
     "user_tz": -330
    },
    "id": "-xbLSNvsQOGN",
    "outputId": "a7857690-5d9a-47e5-857e-a369ec1591a9"
   },
   "outputs": [
    {
     "data": {
      "text/plain": [
       "(637, 5458)"
      ]
     },
     "execution_count": 24,
     "metadata": {
      "tags": []
     },
     "output_type": "execute_result"
    }
   ],
   "source": [
    "input_words = sorted(list(all_eng_words))\n",
    "target_words = sorted(list(morpheme_list))\n",
    "num_encoder_tokens = len(all_eng_words)\n",
    "num_decoder_tokens = len(morpheme_list)\n",
    "#num_morph_dec_tokens=len(moepheme_list)\n",
    "num_encoder_tokens, num_decoder_tokens"
   ]
  },
  {
   "cell_type": "code",
   "execution_count": 0,
   "metadata": {
    "colab": {
     "base_uri": "https://localhost:8080/",
     "height": 34
    },
    "colab_type": "code",
    "executionInfo": {
     "elapsed": 1437,
     "status": "ok",
     "timestamp": 1561880836442,
     "user": {
      "displayName": "Jaswant Kumar",
      "photoUrl": "https://lh6.googleusercontent.com/-q9pbC5zjOIY/AAAAAAAAAAI/AAAAAAAAAAo/1OYGdg39U84/s64/photo.jpg",
      "userId": "17132398173832355271"
     },
     "user_tz": -330
    },
    "id": "iKgulKqsWd5T",
    "outputId": "e307607a-e442-4dc5-a597-93c7e84d41ac"
   },
   "outputs": [
    {
     "data": {
      "text/plain": [
       "637"
      ]
     },
     "execution_count": 257,
     "metadata": {
      "tags": []
     },
     "output_type": "execute_result"
    }
   ],
   "source": [
    "len(all_eng_words)"
   ]
  },
  {
   "cell_type": "code",
   "execution_count": 0,
   "metadata": {
    "colab": {
     "base_uri": "https://localhost:8080/",
     "height": 34
    },
    "colab_type": "code",
    "executionInfo": {
     "elapsed": 2940,
     "status": "ok",
     "timestamp": 1561880739072,
     "user": {
      "displayName": "Jaswant Kumar",
      "photoUrl": "https://lh6.googleusercontent.com/-q9pbC5zjOIY/AAAAAAAAAAI/AAAAAAAAAAo/1OYGdg39U84/s64/photo.jpg",
      "userId": "17132398173832355271"
     },
     "user_tz": -330
    },
    "id": "XVFa8oRKWFD6",
    "outputId": "faf240ff-ab38-4e5b-a3d0-a419c6956e7c"
   },
   "outputs": [
    {
     "data": {
      "text/plain": [
       "5458"
      ]
     },
     "execution_count": 255,
     "metadata": {
      "tags": []
     },
     "output_type": "execute_result"
    }
   ],
   "source": [
    "len(new_word_morpheme_list)"
   ]
  },
  {
   "cell_type": "code",
   "execution_count": 25,
   "metadata": {
    "colab": {
     "base_uri": "https://localhost:8080/",
     "height": 35
    },
    "colab_type": "code",
    "executionInfo": {
     "elapsed": 1331,
     "status": "ok",
     "timestamp": 1562323145934,
     "user": {
      "displayName": "Jaswant Kumar",
      "photoUrl": "https://lh6.googleusercontent.com/-q9pbC5zjOIY/AAAAAAAAAAI/AAAAAAAAAAo/1OYGdg39U84/s64/photo.jpg",
      "userId": "17132398173832355271"
     },
     "user_tz": -330
    },
    "id": "BUcnRv-j65OB",
    "outputId": "f9ddfea8-29fb-4e98-9b26-4a2b599425f0"
   },
   "outputs": [
    {
     "data": {
      "text/plain": [
       "5461"
      ]
     },
     "execution_count": 25,
     "metadata": {
      "tags": []
     },
     "output_type": "execute_result"
    }
   ],
   "source": [
    "num_decoder_tokens += 3 # For zero padding\n",
    "num_decoder_tokens"
   ]
  },
  {
   "cell_type": "code",
   "execution_count": 0,
   "metadata": {
    "colab": {},
    "colab_type": "code",
    "id": "AIsBOCyZ65ON"
   },
   "outputs": [],
   "source": [
    "input_token_index = dict([(word, i+1) for i, word in enumerate(input_words)])\n",
    "target_token_index = dict([(word, i+1) for i, word in enumerate(target_words)])"
   ]
  },
  {
   "cell_type": "code",
   "execution_count": 0,
   "metadata": {
    "colab": {},
    "colab_type": "code",
    "id": "imUWOMHojXv7"
   },
   "outputs": [],
   "source": [
    "#target1_token_index = dict([(word, i+1) for i, word in enumerate(morph_words)])"
   ]
  },
  {
   "cell_type": "code",
   "execution_count": 0,
   "metadata": {
    "colab": {
     "base_uri": "https://localhost:8080/",
     "height": 34
    },
    "colab_type": "code",
    "executionInfo": {
     "elapsed": 1610,
     "status": "ok",
     "timestamp": 1561880875376,
     "user": {
      "displayName": "Jaswant Kumar",
      "photoUrl": "https://lh6.googleusercontent.com/-q9pbC5zjOIY/AAAAAAAAAAI/AAAAAAAAAAo/1OYGdg39U84/s64/photo.jpg",
      "userId": "17132398173832355271"
     },
     "user_tz": -330
    },
    "id": "PJzpb9rYV39S",
    "outputId": "3b657a7e-7627-48ec-85b0-15ff942aa6b2"
   },
   "outputs": [
    {
     "data": {
      "text/plain": [
       "689"
      ]
     },
     "execution_count": 260,
     "metadata": {
      "tags": []
     },
     "output_type": "execute_result"
    }
   ],
   "source": [
    "len(target2_token_index)"
   ]
  },
  {
   "cell_type": "code",
   "execution_count": 0,
   "metadata": {
    "colab": {},
    "colab_type": "code",
    "id": "vFr4OT8FlFm-"
   },
   "outputs": [],
   "source": [
    "target_token_index ['START_']=5459"
   ]
  },
  {
   "cell_type": "code",
   "execution_count": 0,
   "metadata": {
    "colab": {},
    "colab_type": "code",
    "id": "lRHUxaIOs-Gc"
   },
   "outputs": [],
   "source": [
    "target_token_index  ['_END']=5460"
   ]
  },
  {
   "cell_type": "code",
   "execution_count": 0,
   "metadata": {
    "colab": {},
    "colab_type": "code",
    "id": "sW19BGsC65Oq"
   },
   "outputs": [],
   "source": [
    "reverse_input_char_index = dict((i, word) for word, i in input_token_index.items())\n",
    "reverse_target_char_index = dict((i, word) for word, i in target_token_index.items())"
   ]
  },
  {
   "cell_type": "code",
   "execution_count": 33,
   "metadata": {
    "colab": {
     "base_uri": "https://localhost:8080/",
     "height": 359
    },
    "colab_type": "code",
    "executionInfo": {
     "elapsed": 1526,
     "status": "ok",
     "timestamp": 1562323206350,
     "user": {
      "displayName": "Jaswant Kumar",
      "photoUrl": "https://lh6.googleusercontent.com/-q9pbC5zjOIY/AAAAAAAAAAI/AAAAAAAAAAo/1OYGdg39U84/s64/photo.jpg",
      "userId": "17132398173832355271"
     },
     "user_tz": -330
    },
    "id": "aUNhzw0U65Ot",
    "outputId": "36af1716-fc91-4bdc-ead4-141ecca98a0f"
   },
   "outputs": [
    {
     "data": {
      "text/html": [
       "<div>\n",
       "<style scoped>\n",
       "    .dataframe tbody tr th:only-of-type {\n",
       "        vertical-align: middle;\n",
       "    }\n",
       "\n",
       "    .dataframe tbody tr th {\n",
       "        vertical-align: top;\n",
       "    }\n",
       "\n",
       "    .dataframe thead th {\n",
       "        text-align: right;\n",
       "    }\n",
       "</style>\n",
       "<table border=\"1\" class=\"dataframe\">\n",
       "  <thead>\n",
       "    <tr style=\"text-align: right;\">\n",
       "      <th></th>\n",
       "      <th>eng</th>\n",
       "      <th>fre</th>\n",
       "    </tr>\n",
       "  </thead>\n",
       "  <tbody>\n",
       "    <tr>\n",
       "      <th>684</th>\n",
       "      <td>of course</td>\n",
       "      <td>START_ mais ouais _END</td>\n",
       "    </tr>\n",
       "    <tr>\n",
       "      <th>320</th>\n",
       "      <td>leave us</td>\n",
       "      <td>START_ laissenous _END</td>\n",
       "    </tr>\n",
       "    <tr>\n",
       "      <th>231</th>\n",
       "      <td>hi guys</td>\n",
       "      <td>START_ salut les mecs _END</td>\n",
       "    </tr>\n",
       "    <tr>\n",
       "      <th>873</th>\n",
       "      <td>come quick</td>\n",
       "      <td>START_ jouis vite _END</td>\n",
       "    </tr>\n",
       "    <tr>\n",
       "      <th>1208</th>\n",
       "      <td>its wrong</td>\n",
       "      <td>START_ cest faux _END</td>\n",
       "    </tr>\n",
       "    <tr>\n",
       "      <th>1955</th>\n",
       "      <td>i will help</td>\n",
       "      <td>START_ jaiderai _END</td>\n",
       "    </tr>\n",
       "    <tr>\n",
       "      <th>915</th>\n",
       "      <td>he gave in</td>\n",
       "      <td>START_ il céda _END</td>\n",
       "    </tr>\n",
       "    <tr>\n",
       "      <th>1184</th>\n",
       "      <td>its a fad</td>\n",
       "      <td>START_ cest une passade _END</td>\n",
       "    </tr>\n",
       "    <tr>\n",
       "      <th>183</th>\n",
       "      <td>we lost</td>\n",
       "      <td>START_ nous avons été battues _END</td>\n",
       "    </tr>\n",
       "    <tr>\n",
       "      <th>1774</th>\n",
       "      <td>i got dizzy</td>\n",
       "      <td>START_ jai été prise de vertiges _END</td>\n",
       "    </tr>\n",
       "  </tbody>\n",
       "</table>\n",
       "</div>"
      ],
      "text/plain": [
       "              eng                                    fre\n",
       "684     of course                 START_ mais ouais _END\n",
       "320      leave us                 START_ laissenous _END\n",
       "231       hi guys             START_ salut les mecs _END\n",
       "873    come quick                 START_ jouis vite _END\n",
       "1208    its wrong                  START_ cest faux _END\n",
       "1955  i will help                   START_ jaiderai _END\n",
       "915    he gave in                    START_ il céda _END\n",
       "1184    its a fad           START_ cest une passade _END\n",
       "183       we lost     START_ nous avons été battues _END\n",
       "1774  i got dizzy  START_ jai été prise de vertiges _END"
      ]
     },
     "execution_count": 33,
     "metadata": {
      "tags": []
     },
     "output_type": "execute_result"
    }
   ],
   "source": [
    "lines = shuffle(lines)\n",
    "lines.head(10)"
   ]
  },
  {
   "cell_type": "code",
   "execution_count": 35,
   "metadata": {
    "colab": {
     "base_uri": "https://localhost:8080/",
     "height": 35
    },
    "colab_type": "code",
    "executionInfo": {
     "elapsed": 1296,
     "status": "ok",
     "timestamp": 1562323221093,
     "user": {
      "displayName": "Jaswant Kumar",
      "photoUrl": "https://lh6.googleusercontent.com/-q9pbC5zjOIY/AAAAAAAAAAI/AAAAAAAAAAo/1OYGdg39U84/s64/photo.jpg",
      "userId": "17132398173832355271"
     },
     "user_tz": -330
    },
    "id": "ldWvDL4o65O2",
    "outputId": "ad929598-ef6a-4e75-b030-e6c672952019"
   },
   "outputs": [
    {
     "data": {
      "text/plain": [
       "((1800,), (200,))"
      ]
     },
     "execution_count": 35,
     "metadata": {
      "tags": []
     },
     "output_type": "execute_result"
    }
   ],
   "source": [
    "# Train - Test Split\n",
    "X, y = lines.eng, lines.fre\n",
    "X_train, X_test, y_train, y_test = train_test_split(X, y, test_size = 0.1)\n",
    "X_train.shape, X_test.shape"
   ]
  },
  {
   "cell_type": "code",
   "execution_count": 0,
   "metadata": {
    "colab": {
     "base_uri": "https://localhost:8080/",
     "height": 34
    },
    "colab_type": "code",
    "executionInfo": {
     "elapsed": 1506,
     "status": "ok",
     "timestamp": 1561946399988,
     "user": {
      "displayName": "Jaswant Kumar",
      "photoUrl": "https://lh6.googleusercontent.com/-q9pbC5zjOIY/AAAAAAAAAAI/AAAAAAAAAAo/1OYGdg39U84/s64/photo.jpg",
      "userId": "17132398173832355271"
     },
     "user_tz": -330
    },
    "id": "rfMlsm7G65O9",
    "outputId": "20827a78-74cc-47a1-f715-4f9bbf580157"
   },
   "outputs": [
    {
     "data": {
      "text/plain": [
       "(1800,)"
      ]
     },
     "execution_count": 34,
     "metadata": {
      "tags": []
     },
     "output_type": "execute_result"
    }
   ],
   "source": [
    "y_train.shape"
   ]
  },
  {
   "cell_type": "code",
   "execution_count": 0,
   "metadata": {
    "colab": {},
    "colab_type": "code",
    "id": "OIU-Bs-G65PG"
   },
   "outputs": [],
   "source": [
    "import pickle"
   ]
  },
  {
   "cell_type": "code",
   "execution_count": 0,
   "metadata": {
    "colab": {},
    "colab_type": "code",
    "id": "a2WtRUh365PJ"
   },
   "outputs": [],
   "source": [
    "pickle.dump(X_train,open(\"X_test.pkl\",\"wb\"))"
   ]
  },
  {
   "cell_type": "code",
   "execution_count": 0,
   "metadata": {
    "colab": {},
    "colab_type": "code",
    "id": "Zqdo6BxD65PM"
   },
   "outputs": [],
   "source": [
    "pickle.dump(X_train,open(\"X_train.pkl\",\"wb\"))"
   ]
  },
  {
   "cell_type": "code",
   "execution_count": 0,
   "metadata": {
    "colab": {},
    "colab_type": "code",
    "id": "RuqWDb2vQssa"
   },
   "outputs": [],
   "source": [
    "target1_token_index['START_\\n']='START_'\n",
    "target1_token_index['_END\\n']='_END'"
   ]
  },
  {
   "cell_type": "markdown",
   "metadata": {
    "colab_type": "text",
    "id": "Q0Lo04Jk65PQ"
   },
   "source": [
    "#### Save the train and test dataframes for reproducing the results later, as they are shuffled."
   ]
  },
  {
   "cell_type": "code",
   "execution_count": 0,
   "metadata": {
    "colab": {},
    "colab_type": "code",
    "id": "NnWscXEdRFzh"
   },
   "outputs": [],
   "source": [
    "def generate_batch(X = X_train, y = y_train, batch_size = 16):\n",
    "    ''' Generate a batch of data '''\n",
    "    while True:\n",
    "        for j in range(0, len(X), batch_size):\n",
    "            encoder_input_data = np.zeros((batch_size, max_length_src),dtype='float32')\n",
    "            decoder_input_data = np.zeros((batch_size, max_length_tar),dtype='float32')\n",
    "            decoder_target_data = np.zeros((batch_size, max_length_tar, num_decoder_tokens),dtype='float32')\n",
    "            for i, (input_text, target_text) in enumerate(zip(X[j:j+batch_size], y[j:j+batch_size])):\n",
    "                for t, word in enumerate(input_text.split()):\n",
    "                    encoder_input_data[i, t] = input_token_index[word] # encoder input seq\n",
    "                for t, word in enumerate(target_text.split()):\n",
    "                    if t<len(target_text.split())-1:\n",
    "                        word1=word+\"\\n\"\n",
    "                        word1=target1_token_index[word1]\n",
    "                        decoder_input_data[i, t] = target_token_index[word1] # decoder input seq\n",
    "                    if t>0:\n",
    "                        # decoder target sequence (one hot encoded)\n",
    "                        # does not include the START_ token\n",
    "                        # Offset by one timestep\n",
    "                        word1=word+\"\\n\"\n",
    "                        word1=target1_token_index[word1]\n",
    "                        decoder_target_data[i, t - 1, target_token_index[word1]] = 1.\n",
    "            yield([encoder_input_data, decoder_input_data], decoder_target_data)"
   ]
  },
  {
   "cell_type": "markdown",
   "metadata": {
    "colab_type": "text",
    "id": "Gwyg1cvp65PU"
   },
   "source": [
    "### Encoder - Decoder Model Architecture"
   ]
  },
  {
   "cell_type": "code",
   "execution_count": 0,
   "metadata": {
    "colab": {},
    "colab_type": "code",
    "id": "V6NQKXQn65PV"
   },
   "outputs": [],
   "source": [
    "latent_dim = 50"
   ]
  },
  {
   "cell_type": "code",
   "execution_count": 43,
   "metadata": {
    "colab": {
     "base_uri": "https://localhost:8080/",
     "height": 217
    },
    "colab_type": "code",
    "executionInfo": {
     "elapsed": 1583,
     "status": "ok",
     "timestamp": 1562323310728,
     "user": {
      "displayName": "Jaswant Kumar",
      "photoUrl": "https://lh6.googleusercontent.com/-q9pbC5zjOIY/AAAAAAAAAAI/AAAAAAAAAAo/1OYGdg39U84/s64/photo.jpg",
      "userId": "17132398173832355271"
     },
     "user_tz": -330
    },
    "id": "LsVhMjaX65PZ",
    "outputId": "ed0a1b3f-20fe-4fa6-8cd2-ca584010ae19"
   },
   "outputs": [
    {
     "name": "stderr",
     "output_type": "stream",
     "text": [
      "WARNING: Logging before flag parsing goes to stderr.\n",
      "W0705 10:41:49.894991 140584343533440 deprecation_wrapper.py:119] From /usr/local/lib/python3.6/dist-packages/keras/backend/tensorflow_backend.py:74: The name tf.get_default_graph is deprecated. Please use tf.compat.v1.get_default_graph instead.\n",
      "\n",
      "W0705 10:41:49.919199 140584343533440 deprecation_wrapper.py:119] From /usr/local/lib/python3.6/dist-packages/keras/backend/tensorflow_backend.py:517: The name tf.placeholder is deprecated. Please use tf.compat.v1.placeholder instead.\n",
      "\n",
      "W0705 10:41:49.925367 140584343533440 deprecation_wrapper.py:119] From /usr/local/lib/python3.6/dist-packages/keras/backend/tensorflow_backend.py:4138: The name tf.random_uniform is deprecated. Please use tf.random.uniform instead.\n",
      "\n",
      "W0705 10:41:50.184245 140584343533440 deprecation.py:323] From /usr/local/lib/python3.6/dist-packages/keras/backend/tensorflow_backend.py:2974: add_dispatch_support.<locals>.wrapper (from tensorflow.python.ops.array_ops) is deprecated and will be removed in a future version.\n",
      "Instructions for updating:\n",
      "Use tf.where in 2.0, which has the same broadcast rule as np.where\n"
     ]
    }
   ],
   "source": [
    "# Encoder\n",
    "encoder_inputs = Input(shape=(None,))\n",
    "enc_emb =  Embedding(num_encoder_tokens, latent_dim, mask_zero = True)(encoder_inputs)\n",
    "encoder_lstm = LSTM(latent_dim, return_state=True)\n",
    "encoder_outputs, state_h, state_c = encoder_lstm(enc_emb)\n",
    "# We discard `encoder_outputs` and only keep the states.\n",
    "encoder_states = [state_h, state_c]"
   ]
  },
  {
   "cell_type": "code",
   "execution_count": 0,
   "metadata": {
    "colab": {},
    "colab_type": "code",
    "id": "2PPUuZx4dy9x"
   },
   "outputs": [],
   "source": [
    "from keras.layers import Concatenate, Dense, LSTM, Input, concatenate"
   ]
  },
  {
   "cell_type": "code",
   "execution_count": 0,
   "metadata": {
    "colab": {},
    "colab_type": "code",
    "id": "uLcIOGF6RcG6"
   },
   "outputs": [],
   "source": [
    "# Set up the decoder, using `encoder_states` as initial state.\n",
    "decoder_inputs = Input(shape=(None,))\n",
    "#decoder_morph_inputs = Input(shape=(None,))\n",
    "#merge_one = concatenate([decoder_inputs, decoder_morph_inputs])\n",
    "dec_emb_layer = Embedding(num_decoder_tokens, latent_dim, mask_zero = True)\n",
    "#dec_morph_emb_layer = Embedding(num_morph_dec_tokens, latent_dim, mask_zero = True)\n",
    "dec_emb = dec_emb_layer(decoder_inputs)\n",
    "#dec_morph_emb= dec_morph_emb_layer(decoder_morph_inputs)\n",
    "# We set up our decoder to return full output sequences,\n",
    "# and to return internal states as well. We don't use the\n",
    "# return states in the training model, but we will use them in inference.\n",
    "#dec_new_emb=merge([dec_emb,dec_morph_emb],mode='sum')\n",
    "decoder_lstm = LSTM(latent_dim, return_sequences=True, return_state=True)\n",
    "#decoder_morph_lstm=LSTM(latent_dim, return_sequences=True, return_state=True)\n",
    "#decoder_morph_outputs,_, _  = decoder_morph_lstm(dec_morph_emb,\n",
    "                                     #initial_state=encoder_states)\n",
    "decoder_outputs, _, _ = decoder_lstm(dec_emb,\n",
    "                                     initial_state=encoder_states)\n",
    "decoder_dense = Dense(num_decoder_tokens, activation='softmax')\n",
    "#decoder_morph_dense = Dense(num_morph_dec_tokens, activation='softmax')\n",
    "decoder_outputs = decoder_dense(decoder_outputs)\n",
    "#decoder_morph_outputs=decoder_dense(decoder_morph_outputs)\n",
    "#tot_decoder_outputs = concatenate([decoder_outputs, decoder_morph_outputs])\n",
    "# Define the model that will turn\n",
    "# `encoder_input_data` & `decoder_input_data` into `decoder_target_data`\n",
    "model = Model([encoder_inputs, decoder_inputs], decoder_outputs)"
   ]
  },
  {
   "cell_type": "code",
   "execution_count": 0,
   "metadata": {
    "colab": {},
    "colab_type": "code",
    "id": "x3GCMFgM65Ph"
   },
   "outputs": [],
   "source": []
  },
  {
   "cell_type": "code",
   "execution_count": 0,
   "metadata": {
    "colab": {},
    "colab_type": "code",
    "id": "aZFx3gDn65Pu"
   },
   "outputs": [],
   "source": [
    "train_samples = len(X_train)\n",
    "val_samples = len(X_test)\n",
    "batch_size = 128\n",
    "epochs = 5"
   ]
  },
  {
   "cell_type": "code",
   "execution_count": 49,
   "metadata": {
    "colab": {
     "base_uri": "https://localhost:8080/",
     "height": 109
    },
    "colab_type": "code",
    "executionInfo": {
     "elapsed": 1391,
     "status": "ok",
     "timestamp": 1562323375911,
     "user": {
      "displayName": "Jaswant Kumar",
      "photoUrl": "https://lh6.googleusercontent.com/-q9pbC5zjOIY/AAAAAAAAAAI/AAAAAAAAAAo/1OYGdg39U84/s64/photo.jpg",
      "userId": "17132398173832355271"
     },
     "user_tz": -330
    },
    "id": "T0jjXydDTwnb",
    "outputId": "96b80c9a-b221-49aa-d23c-c187a5d12dd3"
   },
   "outputs": [
    {
     "name": "stderr",
     "output_type": "stream",
     "text": [
      "W0705 10:42:55.021048 140584343533440 deprecation_wrapper.py:119] From /usr/local/lib/python3.6/dist-packages/keras/optimizers.py:790: The name tf.train.Optimizer is deprecated. Please use tf.compat.v1.train.Optimizer instead.\n",
      "\n",
      "W0705 10:42:55.057593 140584343533440 deprecation_wrapper.py:119] From /usr/local/lib/python3.6/dist-packages/keras/backend/tensorflow_backend.py:3295: The name tf.log is deprecated. Please use tf.math.log instead.\n",
      "\n"
     ]
    }
   ],
   "source": [
    "model.compile(optimizer='rmsprop', loss='categorical_crossentropy', metrics=['acc'])"
   ]
  },
  {
   "cell_type": "code",
   "execution_count": 50,
   "metadata": {
    "colab": {
     "base_uri": "https://localhost:8080/",
     "height": 271
    },
    "colab_type": "code",
    "executionInfo": {
     "elapsed": 11068,
     "status": "ok",
     "timestamp": 1562323388264,
     "user": {
      "displayName": "Jaswant Kumar",
      "photoUrl": "https://lh6.googleusercontent.com/-q9pbC5zjOIY/AAAAAAAAAAI/AAAAAAAAAAo/1OYGdg39U84/s64/photo.jpg",
      "userId": "17132398173832355271"
     },
     "user_tz": -330
    },
    "id": "i6KZA2SM65QF",
    "outputId": "378f9b6a-6997-4f98-d9b4-967f25f0bb3e"
   },
   "outputs": [
    {
     "name": "stderr",
     "output_type": "stream",
     "text": [
      "W0705 10:42:59.693342 140584343533440 deprecation_wrapper.py:119] From /usr/local/lib/python3.6/dist-packages/keras/backend/tensorflow_backend.py:986: The name tf.assign_add is deprecated. Please use tf.compat.v1.assign_add instead.\n",
      "\n"
     ]
    },
    {
     "name": "stdout",
     "output_type": "stream",
     "text": [
      "Epoch 1/5\n",
      "14/14 [==============================] - 4s 263ms/step - loss: 8.5060 - acc: 0.2472 - val_loss: 8.1706 - val_acc: 0.2628\n",
      "Epoch 2/5\n",
      "14/14 [==============================] - 1s 80ms/step - loss: 7.2542 - acc: 0.2664 - val_loss: 6.2867 - val_acc: 0.2687\n",
      "Epoch 3/5\n",
      "14/14 [==============================] - 1s 78ms/step - loss: 5.6874 - acc: 0.2668 - val_loss: 5.3219 - val_acc: 0.2628\n",
      "Epoch 4/5\n",
      "14/14 [==============================] - 1s 77ms/step - loss: 4.9904 - acc: 0.2671 - val_loss: 4.9373 - val_acc: 0.2687\n",
      "Epoch 5/5\n",
      "14/14 [==============================] - 1s 77ms/step - loss: 4.6795 - acc: 0.2668 - val_loss: 4.6809 - val_acc: 0.2628\n"
     ]
    },
    {
     "data": {
      "text/plain": [
       "<keras.callbacks.History at 0x7fdc02877668>"
      ]
     },
     "execution_count": 50,
     "metadata": {
      "tags": []
     },
     "output_type": "execute_result"
    }
   ],
   "source": [
    "model.fit_generator(generator = generate_batch(X_train, y_train, batch_size = batch_size), steps_per_epoch = train_samples//batch_size,\n",
    "                    epochs=epochs,\n",
    "                    validation_data = generate_batch(X_test, y_test, batch_size = batch_size),\n",
    "                    validation_steps = val_samples//batch_size)"
   ]
  },
  {
   "cell_type": "markdown",
   "metadata": {
    "colab_type": "text",
    "id": "xXityvkgJNLP"
   },
   "source": []
  },
  {
   "cell_type": "code",
   "execution_count": 0,
   "metadata": {
    "colab": {},
    "colab_type": "code",
    "id": "sS6AVJ0llnAU"
   },
   "outputs": [],
   "source": []
  }
 ],
 "metadata": {
  "accelerator": "GPU",
  "colab": {
   "collapsed_sections": [
    "YPeP-pns65QO",
    "9GmrCjp765Qh",
    "lxpl-ADx65Ql",
    "jsScI-Jo65Qu",
    "mxp32cUU65Q5",
    "Un-m_6EL65Tv"
   ],
   "name": "bpe_charLevelEngMarNMT.ipynb",
   "provenance": [],
   "version": "0.3.2"
  },
  "kernelspec": {
   "display_name": "Python 3",
   "language": "python",
   "name": "python3"
  },
  "language_info": {
   "codemirror_mode": {
    "name": "ipython",
    "version": 3
   },
   "file_extension": ".py",
   "mimetype": "text/x-python",
   "name": "python",
   "nbconvert_exporter": "python",
   "pygments_lexer": "ipython3",
   "version": "3.6.8"
  }
 },
 "nbformat": 4,
 "nbformat_minor": 1
}
